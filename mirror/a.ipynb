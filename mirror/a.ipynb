{
 "cells": [
  {
   "cell_type": "code",
   "execution_count": 1,
   "metadata": {},
   "outputs": [
    {
     "data": {
      "text/html": [
       "<div>\n",
       "<style scoped>\n",
       "    .dataframe tbody tr th:only-of-type {\n",
       "        vertical-align: middle;\n",
       "    }\n",
       "\n",
       "    .dataframe tbody tr th {\n",
       "        vertical-align: top;\n",
       "    }\n",
       "\n",
       "    .dataframe thead th {\n",
       "        text-align: right;\n",
       "    }\n",
       "</style>\n",
       "<table border=\"1\" class=\"dataframe\">\n",
       "  <thead>\n",
       "    <tr style=\"text-align: right;\">\n",
       "      <th></th>\n",
       "      <th>book_img</th>\n",
       "      <th>book_title</th>\n",
       "      <th>book_price</th>\n",
       "      <th>book_score</th>\n",
       "      <th>book_page</th>\n",
       "      <th>book_genre</th>\n",
       "      <th>color</th>\n",
       "      <th>atmosphere</th>\n",
       "      <th>art_reputation</th>\n",
       "      <th>keyword</th>\n",
       "    </tr>\n",
       "  </thead>\n",
       "  <tbody>\n",
       "    <tr>\n",
       "      <th>0</th>\n",
       "      <td>https://contents.kyobobook.co.kr/sih/fit-in/30...</td>\n",
       "      <td>울지 않는 열다섯은 없다</td>\n",
       "      <td>11,700</td>\n",
       "      <td>10.0</td>\n",
       "      <td>650</td>\n",
       "      <td>chung</td>\n",
       "      <td>['Beige', 'Purple']</td>\n",
       "      <td>['mysterious', 'calm', 'dreamlike']</td>\n",
       "      <td>383</td>\n",
       "      <td>['가정', '소년', '학교']</td>\n",
       "    </tr>\n",
       "    <tr>\n",
       "      <th>1</th>\n",
       "      <td>https://contents.kyobobook.co.kr/sih/fit-in/30...</td>\n",
       "      <td>학교 안에서</td>\n",
       "      <td>10,800</td>\n",
       "      <td>10.0</td>\n",
       "      <td>600</td>\n",
       "      <td>chung</td>\n",
       "      <td>['Beige', 'Purple']</td>\n",
       "      <td>['mysterious', 'calm', 'dreamlike']</td>\n",
       "      <td>391</td>\n",
       "      <td>['학교', '폭탄', '경찰청']</td>\n",
       "    </tr>\n",
       "  </tbody>\n",
       "</table>\n",
       "</div>"
      ],
      "text/plain": [
       "                                            book_img     book_title  \\\n",
       "0  https://contents.kyobobook.co.kr/sih/fit-in/30...  울지 않는 열다섯은 없다   \n",
       "1  https://contents.kyobobook.co.kr/sih/fit-in/30...         학교 안에서   \n",
       "\n",
       "  book_price  book_score book_page book_genre                color  \\\n",
       "0     11,700        10.0       650      chung  ['Beige', 'Purple']   \n",
       "1     10,800        10.0       600      chung  ['Beige', 'Purple']   \n",
       "\n",
       "                            atmosphere  art_reputation              keyword  \n",
       "0  ['mysterious', 'calm', 'dreamlike']             383   ['가정', '소년', '학교']  \n",
       "1  ['mysterious', 'calm', 'dreamlike']             391  ['학교', '폭탄', '경찰청']  "
      ]
     },
     "execution_count": 1,
     "metadata": {},
     "output_type": "execute_result"
    }
   ],
   "source": [
    "import pandas as pd \n",
    "\n",
    "df = pd.read_csv('D:\\\\ampick\\mirror\\\\recommend_data.csv')\n",
    "df.head(2)"
   ]
  },
  {
   "cell_type": "code",
   "execution_count": 6,
   "metadata": {},
   "outputs": [],
   "source": [
    "import ast\n",
    "\n",
    "df['keyword'] = [ast.literal_eval(i) for i in df['keyword']]"
   ]
  },
  {
   "cell_type": "code",
   "execution_count": 8,
   "metadata": {},
   "outputs": [
    {
     "data": {
      "text/html": [
       "<div>\n",
       "<style scoped>\n",
       "    .dataframe tbody tr th:only-of-type {\n",
       "        vertical-align: middle;\n",
       "    }\n",
       "\n",
       "    .dataframe tbody tr th {\n",
       "        vertical-align: top;\n",
       "    }\n",
       "\n",
       "    .dataframe thead th {\n",
       "        text-align: right;\n",
       "    }\n",
       "</style>\n",
       "<table border=\"1\" class=\"dataframe\">\n",
       "  <thead>\n",
       "    <tr style=\"text-align: right;\">\n",
       "      <th></th>\n",
       "      <th>book_img</th>\n",
       "      <th>book_title</th>\n",
       "      <th>book_price</th>\n",
       "      <th>book_score</th>\n",
       "      <th>book_page</th>\n",
       "      <th>book_genre</th>\n",
       "      <th>color</th>\n",
       "      <th>atmosphere</th>\n",
       "      <th>art_reputation</th>\n",
       "      <th>keyword</th>\n",
       "    </tr>\n",
       "  </thead>\n",
       "  <tbody>\n",
       "    <tr>\n",
       "      <th>0</th>\n",
       "      <td>https://contents.kyobobook.co.kr/sih/fit-in/30...</td>\n",
       "      <td>울지 않는 열다섯은 없다</td>\n",
       "      <td>11,700</td>\n",
       "      <td>10.0</td>\n",
       "      <td>650</td>\n",
       "      <td>chung</td>\n",
       "      <td>['Beige', 'Purple']</td>\n",
       "      <td>['mysterious', 'calm', 'dreamlike']</td>\n",
       "      <td>383</td>\n",
       "      <td>[가정, 소년, 학교]</td>\n",
       "    </tr>\n",
       "    <tr>\n",
       "      <th>1</th>\n",
       "      <td>https://contents.kyobobook.co.kr/sih/fit-in/30...</td>\n",
       "      <td>학교 안에서</td>\n",
       "      <td>10,800</td>\n",
       "      <td>10.0</td>\n",
       "      <td>600</td>\n",
       "      <td>chung</td>\n",
       "      <td>['Beige', 'Purple']</td>\n",
       "      <td>['mysterious', 'calm', 'dreamlike']</td>\n",
       "      <td>391</td>\n",
       "      <td>[학교, 폭탄, 경찰청]</td>\n",
       "    </tr>\n",
       "  </tbody>\n",
       "</table>\n",
       "</div>"
      ],
      "text/plain": [
       "                                            book_img     book_title  \\\n",
       "0  https://contents.kyobobook.co.kr/sih/fit-in/30...  울지 않는 열다섯은 없다   \n",
       "1  https://contents.kyobobook.co.kr/sih/fit-in/30...         학교 안에서   \n",
       "\n",
       "  book_price  book_score book_page book_genre                color  \\\n",
       "0     11,700        10.0       650      chung  ['Beige', 'Purple']   \n",
       "1     10,800        10.0       600      chung  ['Beige', 'Purple']   \n",
       "\n",
       "                            atmosphere  art_reputation        keyword  \n",
       "0  ['mysterious', 'calm', 'dreamlike']             383   [가정, 소년, 학교]  \n",
       "1  ['mysterious', 'calm', 'dreamlike']             391  [학교, 폭탄, 경찰청]  "
      ]
     },
     "execution_count": 8,
     "metadata": {},
     "output_type": "execute_result"
    }
   ],
   "source": [
    "df.head(2)"
   ]
  },
  {
   "cell_type": "code",
   "execution_count": 9,
   "metadata": {},
   "outputs": [],
   "source": [
    "df.to_csv('D:\\\\ampick\\mirror\\\\recommend_data.csv',index=False)"
   ]
  }
 ],
 "metadata": {
  "kernelspec": {
   "display_name": "Python 3",
   "language": "python",
   "name": "python3"
  },
  "language_info": {
   "codemirror_mode": {
    "name": "ipython",
    "version": 3
   },
   "file_extension": ".py",
   "mimetype": "text/x-python",
   "name": "python",
   "nbconvert_exporter": "python",
   "pygments_lexer": "ipython3",
   "version": "3.10.11"
  }
 },
 "nbformat": 4,
 "nbformat_minor": 2
}
